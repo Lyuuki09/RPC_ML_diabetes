{
 "cells": [
  {
   "cell_type": "code",
   "execution_count": null,
   "id": "0504bcd9",
   "metadata": {},
   "outputs": [],
   "source": [
    "from xmlrpc.server import SimpleXMLRPCServer\n",
    "\n",
    "def somar(x, y):\n",
    "    return x + y\n",
    "\n",
    "server = SimpleXMLRPCServer((\"localhost\", 8000))\n",
    "server.register_function(somar, \"somar\")\n",
    "\n",
    "print(\"Servidor RPC ativo...\")\n",
    "server.serve_forever()"
   ]
  },
  {
   "cell_type": "code",
   "execution_count": null,
   "id": "0f9e5c47",
   "metadata": {},
   "outputs": [],
   "source": [
    "import xmlrpc.client\n",
    "\n",
    "proxy = xmlrpc.client.ServerProxy(\"http://localhost:8000/\")\n",
    "resultado = proxy.somar(5, 3)\n",
    "print(\"Resultado:\", resultado)"
   ]
  },
  {
   "cell_type": "code",
   "execution_count": null,
   "id": "fa2633b1",
   "metadata": {},
   "outputs": [],
   "source": [
    "import Pyro5.api\n",
    "\n",
    "# Criando a classe da calculadora\n",
    "@Pyro5.api.expose\n",
    "class Calculadora:\n",
    "    def somar(self, a, b):\n",
    "        return a + b\n",
    "\n",
    "# Registrando o objeto no servidor Pyro\n",
    "daemon = Pyro5.api.Daemon()  # cria o servidor\n",
    "uri = daemon.register(Calculadora)  # registra a classe Calculadora\n",
    "print(\"URI do objeto remoto:\", uri)\n",
    "\n",
    "# Mantém o servidor esperando chamadas\n",
    "print(\"Servidor aguardando chamadas remotas...\")\n",
    "daemon.requestLoop()"
   ]
  },
  {
   "cell_type": "code",
   "execution_count": null,
   "id": "b1e42acc",
   "metadata": {},
   "outputs": [],
   "source": [
    "import Pyro5.api\n",
    "\n",
    "# Cole a URI do servidor aqui\n",
    "uri = \"insira_aqui_a_uri_que_o_servidor_mostrar\"\n",
    "calculadora = Pyro5.api.Proxy(uri)\n",
    "\n",
    "# Testando a chamada remota\n",
    "resultado = calculadora.somar(10, 7)\n",
    "print(\"Resultado da soma remota:\", resultado)"
   ]
  }
 ],
 "metadata": {
  "kernelspec": {
   "display_name": "Python 3",
   "language": "python",
   "name": "python3"
  },
  "language_info": {
   "codemirror_mode": {
    "name": "ipython",
    "version": 3
   },
   "file_extension": ".py",
   "mimetype": "text/x-python",
   "name": "python",
   "nbconvert_exporter": "python",
   "pygments_lexer": "ipython3",
   "version": "3.13.0"
  }
 },
 "nbformat": 4,
 "nbformat_minor": 5
}
